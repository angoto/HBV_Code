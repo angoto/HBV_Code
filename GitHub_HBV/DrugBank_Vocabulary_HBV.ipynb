{
 "cells": [
  {
   "cell_type": "markdown",
   "metadata": {},
   "source": [
    "# HBV Vocabulary from DrugBank.ca"
   ]
  },
  {
   "cell_type": "markdown",
   "metadata": {},
   "source": [
    "The HBV vocabulary used in the representative code for data processing comes from all clinically approved HBV drugs from DrugBank.ca. Note: In the original study, Clarivate Analytics Integrity was used. "
   ]
  },
  {
   "cell_type": "code",
   "execution_count": 1,
   "metadata": {},
   "outputs": [],
   "source": [
    "# Create the vocabulary from clinically approved HBV drugs\n",
    "# mentioned in DrugBank.ca (6 clinically approved drugs with\n",
    "# their synonyms and external IDs)\n",
    "HBV_clinically_approved_DrugBank = ['(?i)Lamivudine',\n",
    "                                    '(?i)(-)-BCH 189',\n",
    "                                    '(?i)GR 109714X',\n",
    "                                    '(?i)GR-109714X',\n",
    "                                    '(?i)Adefovir Dipivoxil',\n",
    "                                    '(?i)Adefovir pivoxil',\n",
    "                                    '(?i)bis-POM PMEA',\n",
    "                                    '(?i)GS 0840',\n",
    "                                    '(?i)GS-0840',\n",
    "                                    '(?i)Entecavir',\n",
    "                                    '(?i)BMS-200475-01',\n",
    "                                    '(?i)ETV',\n",
    "                                    '(?i)SQ34676',\n",
    "                                    '(?i)Obinutuzumab',\n",
    "                                    '(?i)GA-101',\n",
    "                                    '(?i)Telbivudine',\n",
    "                                    '(?i)L-DT',\n",
    "                                    '(?i)LDT',\n",
    "                                    '(?i)LDT-600',\n",
    "                                    '(?i)LDT600',\n",
    "                                    '(?i)NV-02B',\n",
    "                                    '(?i)Hepatitis B Immune Globulin',\n",
    "                                    '(?i)HBIG',\n",
    "                                    '(?i)Hepatitis B immunoglobulin']"
   ]
  },
  {
   "cell_type": "code",
   "execution_count": 2,
   "metadata": {},
   "outputs": [
    {
     "data": {
      "text/plain": [
       "['(?i)Lamivudine',\n",
       " '(?i)(-)-BCH 189',\n",
       " '(?i)GR 109714X',\n",
       " '(?i)GR-109714X',\n",
       " '(?i)Adefovir Dipivoxil',\n",
       " '(?i)Adefovir pivoxil',\n",
       " '(?i)bis-POM PMEA',\n",
       " '(?i)GS 0840',\n",
       " '(?i)GS-0840',\n",
       " '(?i)Entecavir',\n",
       " '(?i)BMS-200475-01',\n",
       " '(?i)ETV',\n",
       " '(?i)SQ34676',\n",
       " '(?i)Obinutuzumab',\n",
       " '(?i)GA-101',\n",
       " '(?i)Telbivudine',\n",
       " '(?i)L-DT',\n",
       " '(?i)LDT',\n",
       " '(?i)LDT-600',\n",
       " '(?i)LDT600',\n",
       " '(?i)NV-02B',\n",
       " '(?i)Hepatitis B Immune Globulin',\n",
       " '(?i)HBIG',\n",
       " '(?i)Hepatitis B immunoglobulin']"
      ]
     },
     "execution_count": 2,
     "metadata": {},
     "output_type": "execute_result"
    }
   ],
   "source": [
    "# Visualize the HBV drug vocabulary\n",
    "HBV_clinically_approved_DrugBank"
   ]
  },
  {
   "cell_type": "code",
   "execution_count": 3,
   "metadata": {},
   "outputs": [],
   "source": [
    "# Write the vocabulary for HBV to text file\n",
    "with open('./HBV_clinically_approved_DrugBank.txt', 'w') as f:\n",
    "    for item in HBV_clinically_approved_DrugBank:\n",
    "        f.write(\"%s\\n\" % item)"
   ]
  }
 ],
 "metadata": {
  "kernelspec": {
   "display_name": "Python 3",
   "language": "python",
   "name": "python3"
  },
  "language_info": {
   "codemirror_mode": {
    "name": "ipython",
    "version": 3
   },
   "file_extension": ".py",
   "mimetype": "text/x-python",
   "name": "python",
   "nbconvert_exporter": "python",
   "pygments_lexer": "ipython3",
   "version": "3.7.3"
  }
 },
 "nbformat": 4,
 "nbformat_minor": 2
}
