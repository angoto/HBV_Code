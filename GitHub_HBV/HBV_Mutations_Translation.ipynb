{
 "cells": [
  {
   "cell_type": "markdown",
   "metadata": {},
   "source": [
    "# Translation of HBV Mutations "
   ]
  },
  {
   "cell_type": "markdown",
   "metadata": {},
   "source": [
    "The code shown below was used in order to translate four different HBV mutation categories from the scientific literature into mutation in amino acid (e.g. p.Pro156Ser) and nucleotide (e.g. c.314C>T) sequences used in the clinical study. \n",
    "1. D16V \n",
    "2. c.47A>T (Desired format so no translation required)\n",
    "3. A47T \n",
    "4. rtD16V\n",
    "5. Asp16Val\n",
    "6. p.Asp16Val (Desired format so no translation required)\n",
    "7. rtAsp16Val (No hit mutations in this category for PubMed Central)"
   ]
  },
  {
   "cell_type": "code",
   "execution_count": 1,
   "metadata": {},
   "outputs": [],
   "source": [
    "import re"
   ]
  },
  {
   "cell_type": "markdown",
   "metadata": {},
   "source": [
    "## Dictionary"
   ]
  },
  {
   "cell_type": "code",
   "execution_count": 2,
   "metadata": {},
   "outputs": [],
   "source": [
    "# Master dictionary to match single letter AA (amino acid) to 3 letter AA\n",
    "master_dictionary_mutations = {'A': 'Ala', 'a': 'Ala', 'R': 'Arg',\n",
    "                               'r': 'Arg', 'N': 'Asn',\n",
    "                               'D': 'Asp', 'C': 'Cys',\n",
    "                               'E': 'Glu', 'Q': 'Gln',\n",
    "                               'G': 'Gly', 'H': 'His',\n",
    "                               'O': 'Hyp', 'I': 'Ile',\n",
    "                               'L': 'Leu', 'K': 'Lys',\n",
    "                               'M': 'Met', 'F': 'Phe',\n",
    "                               'P': 'Pro', 'U': 'Glp',\n",
    "                               'S': 'Ser', 'T': 'Thr',\n",
    "                               'W': 'Trp', 'Y': 'Tyr',\n",
    "                               'V': 'Val', 'n': 'Asn',\n",
    "                               'd': 'Asp', 'c': 'Cys',\n",
    "                               'e': 'Glu', 'q': 'Gln',\n",
    "                               'g': 'Gly', 'h': 'His',\n",
    "                               'o': 'Hyp', 'i': 'Ile',\n",
    "                               'l': 'Leu', 'k': 'Lys',\n",
    "                               'm': 'Met', 'f': 'Phe',\n",
    "                               'p': 'Pro', 'u': 'Glp',\n",
    "                               's': 'Ser', 't': 'Thr',\n",
    "                               'w': 'Trp', 'y': 'Tyr',\n",
    "                               'v': 'Val', 'B': 'Asx',\n",
    "                               'b': 'Asx', 'Z': 'Glx', 'z': 'Glx'}"
   ]
  },
  {
   "cell_type": "code",
   "execution_count": 3,
   "metadata": {},
   "outputs": [],
   "source": [
    "# Dictionary for base pair mapping\n",
    "base_pair_mapping1 = {'A': 'T', 'G': 'C',\n",
    "                      'C': 'G', 'T': 'A',\n",
    "                      'a': 'T', 't': 'A', 'g': 'C', 'c': 'G'}"
   ]
  },
  {
   "cell_type": "code",
   "execution_count": 4,
   "metadata": {},
   "outputs": [],
   "source": [
    "# Dictionary for conversion of lower case to upper case for base pairs\n",
    "upper_to_lower_case = {'a': 'A', 'g': 'G', 'c': 'C', 't': 'T'}"
   ]
  },
  {
   "cell_type": "code",
   "execution_count": 5,
   "metadata": {},
   "outputs": [],
   "source": [
    "# Dictionary for capitalizing the first letters of 3 letter AA\n",
    "dictionary_3let_mutations = {'ala': 'Ala', 'arg': 'Arg',\n",
    "                             'asn': 'Asn', 'asp': 'Asp',\n",
    "                             'cys': 'Cys', 'glu': 'Glu',\n",
    "                             'gln': 'Gln', 'gly': 'Gly',\n",
    "                             'his': 'His', 'hyp': 'Hyp',\n",
    "                             'ile': 'Ile', 'leu': 'Leu',\n",
    "                             'lys': 'Lys', 'met': 'Met',\n",
    "                             'phe': 'Phe', 'pro': 'Pro',\n",
    "                             'glp': 'Glp', 'ser': 'Ser',\n",
    "                             'thr': 'Thr', 'trp': 'Trp',\n",
    "                             'tyr': 'Tyr', 'val': 'Val',\n",
    "                             'asx': 'Asx', 'glx': 'Glx'}"
   ]
  },
  {
   "cell_type": "markdown",
   "metadata": {},
   "source": [
    "## Translation of Category 1 (i.e. D16V) to Category 6 (i.e. p.Asp16Val)"
   ]
  },
  {
   "cell_type": "code",
   "execution_count": 6,
   "metadata": {},
   "outputs": [],
   "source": [
    "# Definition for translating HBV mutations\n",
    "\n",
    "\n",
    "def translate_HBV_mutations(translate_set, dictionary):\n",
    "    mutation_translation = str()\n",
    "    for mutation in str(translate_set):\n",
    "        if mutation in dictionary:\n",
    "            mutation_translation += dictionary[mutation]\n",
    "        else:\n",
    "            mutation_translation += mutation\n",
    "    split_mutation_list = mutation_translation.split()\n",
    "    return(split_mutation_list)\n",
    "\n",
    "\n",
    "def translate_HBV_mutations_type3(translate_set, character, dictionary):\n",
    "    mutation_translation = str()\n",
    "    for mutation in str(translate_set):\n",
    "        if mutation in dictionary:\n",
    "            mutation_translation += dictionary[mutation] + character + mutation\n",
    "        else:\n",
    "            mutation_translation += mutation\n",
    "    split_mutation_list = mutation_translation.split()\n",
    "    return(split_mutation_list)\n",
    "\n",
    "\n",
    "def translate_HBV_mutations_set(translate_set, dictionary, letter):\n",
    "    translated_set = set()\n",
    "    translated_list = [re.sub('[^a-zA-Z0-9>]+', '', _)\n",
    "                       for _ in translate_HBV_mutations(translate_set,\n",
    "                                                        dictionary)]\n",
    "    translated_list = [letter +\n",
    "                       mutation for mutation in translated_list]\n",
    "    translated_set = set(translated_list)\n",
    "    return(translated_set)"
   ]
  },
  {
   "cell_type": "markdown",
   "metadata": {},
   "source": [
    "## Translation of Category 1 (i.e. D16V) to Category 6 (i.e. p.Asp16Val)"
   ]
  },
  {
   "cell_type": "markdown",
   "metadata": {},
   "source": [
    "Example use of translation_category1"
   ]
  },
  {
   "cell_type": "code",
   "execution_count": 7,
   "metadata": {},
   "outputs": [],
   "source": [
    "mutation_type1_list = ['D16V', \"E70G\"]"
   ]
  },
  {
   "cell_type": "code",
   "execution_count": 8,
   "metadata": {},
   "outputs": [
    {
     "data": {
      "text/plain": [
       "{'p.Asp16Val', 'p.Glu70Gly'}"
      ]
     },
     "execution_count": 8,
     "metadata": {},
     "output_type": "execute_result"
    }
   ],
   "source": [
    "translate_HBV_mutations_set(mutation_type1_list,\n",
    "                            master_dictionary_mutations, \"p.\")"
   ]
  },
  {
   "cell_type": "markdown",
   "metadata": {},
   "source": [
    "## Translation of Category 3 (i.e. A47T) to Category 2 (i.e. c.314C>T)"
   ]
  },
  {
   "cell_type": "markdown",
   "metadata": {},
   "source": [
    "Example use of translation_category3"
   ]
  },
  {
   "cell_type": "code",
   "execution_count": 9,
   "metadata": {},
   "outputs": [],
   "source": [
    "mutation_type3_list = ['A100T', \"G20C\", \"g105c\"]"
   ]
  },
  {
   "cell_type": "code",
   "execution_count": 10,
   "metadata": {
    "scrolled": true
   },
   "outputs": [
    {
     "data": {
      "text/plain": [
       "{'c.100A>T', 'c.105G>C', 'c.20G>C'}"
      ]
     },
     "execution_count": 10,
     "metadata": {},
     "output_type": "execute_result"
    }
   ],
   "source": [
    "# First, remove the first character from string\n",
    "mutation_type3_list = [e[1:] for e in mutation_type3_list]\n",
    "# then add the letter that matched with the dictionary and \">\"\n",
    "# Then convert the remaining nucleotides\n",
    "mutation_type3_intermediate1 = translate_HBV_mutations_type3(\n",
    "    mutation_type3_list, \">\", base_pair_mapping1)\n",
    "# Convert lower case mutations to upper case\n",
    "mutation_type3_intermediate2 = translate_HBV_mutations(\n",
    "    mutation_type3_intermediate1, upper_to_lower_case)\n",
    "# Then add \"c.\"\n",
    "translate_HBV_mutations_set(\n",
    "    mutation_type3_intermediate2, upper_to_lower_case, \"c.\")"
   ]
  },
  {
   "cell_type": "markdown",
   "metadata": {},
   "source": [
    "## Translation of Category 4 (i.e. rtD16V) to Category 6 (i.e. p.Asp16Val)"
   ]
  },
  {
   "cell_type": "markdown",
   "metadata": {},
   "source": [
    "Example use of translation_category4"
   ]
  },
  {
   "cell_type": "code",
   "execution_count": 11,
   "metadata": {},
   "outputs": [],
   "source": [
    "mutation_type4_list = ['rtF90M', \"rtP11W\"]"
   ]
  },
  {
   "cell_type": "code",
   "execution_count": 12,
   "metadata": {},
   "outputs": [
    {
     "data": {
      "text/plain": [
       "{'p.Phe90Met', 'p.Pro11Trp'}"
      ]
     },
     "execution_count": 12,
     "metadata": {},
     "output_type": "execute_result"
    }
   ],
   "source": [
    "# First, remove first two characters (\"rt\") from string\n",
    "mutation_type4_list = [e[2:] for e in mutation_type4_list]\n",
    "# Convert single letter AA to three letters AA\n",
    "# Then add \"p.\"\n",
    "translate_HBV_mutations_set(mutation_type4_list,\n",
    "                            master_dictionary_mutations, \"p.\")"
   ]
  },
  {
   "cell_type": "markdown",
   "metadata": {},
   "source": [
    "## Translation of Category 5 (i.e. Asp16Val) to Category 6 (i.e. p.Asp16Val)"
   ]
  },
  {
   "cell_type": "markdown",
   "metadata": {},
   "source": [
    "Example use of translation_category5"
   ]
  },
  {
   "cell_type": "code",
   "execution_count": 13,
   "metadata": {},
   "outputs": [],
   "source": [
    "mutation_type5_list = ['His27Phe', \"Tyr62Glx\"]"
   ]
  },
  {
   "cell_type": "code",
   "execution_count": 14,
   "metadata": {},
   "outputs": [
    {
     "data": {
      "text/plain": [
       "{'p.His27Phe', 'p.Tyr62Glx'}"
      ]
     },
     "execution_count": 14,
     "metadata": {},
     "output_type": "execute_result"
    }
   ],
   "source": [
    "# Add \"p.\"\n",
    "translate_HBV_mutations_set(mutation_type5_list,\n",
    "                            dictionary_3let_mutations, \"p.\")"
   ]
  }
 ],
 "metadata": {
  "kernelspec": {
   "display_name": "Python 3",
   "language": "python",
   "name": "python3"
  },
  "language_info": {
   "codemirror_mode": {
    "name": "ipython",
    "version": 3
   },
   "file_extension": ".py",
   "mimetype": "text/x-python",
   "name": "python",
   "nbconvert_exporter": "python",
   "pygments_lexer": "ipython3",
   "version": "3.7.6"
  }
 },
 "nbformat": 4,
 "nbformat_minor": 2
}
