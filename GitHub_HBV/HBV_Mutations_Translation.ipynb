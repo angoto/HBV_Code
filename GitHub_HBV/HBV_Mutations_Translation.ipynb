{
 "cells": [
  {
   "cell_type": "markdown",
   "metadata": {},
   "source": [
    "# Translation of HBV Mutations "
   ]
  },
  {
   "cell_type": "markdown",
   "metadata": {},
   "source": [
    "The code shown below was used in order to translate four different HBV mutation categories from the scientific literature into mutation in amino acid (e.g. p.Pro156Ser) and nucleotide (e.g. c.314C>T) sequences used in the clinical study. \n",
    "1. D16V \n",
    "2. c.47A>T (No translation required)\n",
    "3. A47T \n",
    "4. rtD16V\n",
    "5. Asp16Val\n",
    "6. p.Asp16Val (No translation required)\n",
    "7. rtAsp16Val (No hit mutations in this category for PubMed Central)"
   ]
  },
  {
   "cell_type": "code",
   "execution_count": 71,
   "metadata": {},
   "outputs": [],
   "source": [
    "import re"
   ]
  },
  {
   "cell_type": "markdown",
   "metadata": {},
   "source": [
    "## Dictionary"
   ]
  },
  {
   "cell_type": "code",
   "execution_count": 72,
   "metadata": {},
   "outputs": [],
   "source": [
    "#Master dictionary to match single letter AA (amino acid) to 3 letter AA\n",
    "master_dictionary_mutations = {'A': 'Ala', 'a': 'Ala', 'R': 'Arg', 'r': 'Arg', 'N': 'Asn', 'D': 'Asp', 'C': 'Cys', 'E': 'Glu', 'Q': 'Gln', 'G': 'Gly', 'H': 'His', 'O': 'Hyp', 'I': 'Ile', 'L': 'Leu', 'K': 'Lys', 'M': 'Met', 'F': 'Phe', 'P': 'Pro', 'U': 'Glp', 'S': 'Ser', 'T': 'Thr', 'W': 'Trp', 'Y': 'Tyr', 'V': 'Val', 'n': 'Asn', 'd': 'Asp', 'c': 'Cys', 'e': 'Glu', 'q': 'Gln', 'g': 'Gly', 'h': 'His', 'o': 'Hyp', 'i': 'Ile', 'l': 'Leu', 'k': 'Lys', 'm': 'Met', 'f': 'Phe', 'p': 'Pro', 'u': 'Glp', 's': 'Ser', 't': 'Thr', 'w': 'Trp', 'y': 'Tyr', 'v': 'Val', 'B': 'Asx', 'b': 'Asx', 'Z': 'Glx', 'z': 'Glx'}"
   ]
  },
  {
   "cell_type": "code",
   "execution_count": 73,
   "metadata": {},
   "outputs": [],
   "source": [
    "#Dictionary for base pair mapping \n",
    "base_pair_mapping1 = {'A':'T', 'G':'C', 'C':'G', 'T':'A', 'a': 'T', 't': 'A', 'g': 'C', 'c': 'G'}"
   ]
  },
  {
   "cell_type": "code",
   "execution_count": 74,
   "metadata": {},
   "outputs": [],
   "source": [
    "#Dictionary for conversion of lower case to upper case for base pairs\n",
    "upper_to_lower_case = {'a': 'A', 'g': 'G', 'c': 'C', 't': 'T'}"
   ]
  },
  {
   "cell_type": "code",
   "execution_count": 75,
   "metadata": {},
   "outputs": [],
   "source": [
    "#Dictionary for capitalizing the first letters of 3 letter AA\n",
    "dictionary_3let_mutations = {'ala': 'Ala', 'arg': 'Arg', 'asn': 'Asn', 'asp': 'Asp', 'cys': 'Cys', 'glu': 'Glu', 'gln': 'Gln', 'gly': 'Gly', 'his': 'His', 'hyp': 'Hyp', 'ile': 'Ile', 'leu': 'Leu', 'lys': 'Lys', 'met': 'Met', 'phe': 'Phe', 'pro': 'Pro', 'glp': 'Glp', 'ser': 'Ser', 'thr': 'Thr', 'trp': 'Trp', 'tyr': 'Tyr', 'val': 'Val', 'asx': 'Asx', 'glx': 'Glx'}"
   ]
  },
  {
   "cell_type": "markdown",
   "metadata": {},
   "source": [
    "## Translation of Category 1 (i.e. D16V) to Category 6 (i.e. p.Asp16Val)"
   ]
  },
  {
   "cell_type": "code",
   "execution_count": 76,
   "metadata": {},
   "outputs": [],
   "source": [
    "#Script used to convert mutation type 1 to 6\n",
    "#First, conversion from Single Letter AA to 3 Letter AA (without changing position #)\n",
    "#Then adding \"p.\"\n",
    "\n",
    "def translation_category1(list_of_mutation_type1_from_cooccurrence_of_mutation_and_drug_from_literature):\n",
    "    cooccurrence_translation_mutation_expression_type1 = set()\n",
    "    mutation_translation = str()\n",
    "\n",
    "    for mutation in str(list_of_mutation_type1_from_cooccurrence_of_mutation_and_drug_from_literature):\n",
    "        if mutation in master_dictionary_mutations:\n",
    "            mutation_translation += master_dictionary_mutations[mutation]     \n",
    "        else:\n",
    "            mutation_translation += mutation\n",
    "\n",
    "    split_mutations_list = mutation_translation.split()   \n",
    "    cooccurrence_translation_expression_type1_AA1wt_AA1mut = [re.sub('[^a-zA-Z0-9]+', '', _) for _ in split_mutations_list]\n",
    "    cooccurrence_translation_mutation_expression_type1 = [\"p.\" + mutation for mutation in cooccurrence_translation_expression_type1_AA1wt_AA1mut]\n",
    "    cooccurrence_translation_mutation_expression_type1 = set(cooccurrence_translation_mutation_expression_type1)\n",
    "    return(cooccurrence_translation_mutation_expression_type1)"
   ]
  },
  {
   "cell_type": "markdown",
   "metadata": {},
   "source": [
    "Example use of translation_category1"
   ]
  },
  {
   "cell_type": "code",
   "execution_count": 77,
   "metadata": {},
   "outputs": [],
   "source": [
    "mutation_type1_list = ['D16V', \"E70G\"]"
   ]
  },
  {
   "cell_type": "code",
   "execution_count": 78,
   "metadata": {},
   "outputs": [
    {
     "data": {
      "text/plain": [
       "{'p.Asp16Val', 'p.Glu70Gly'}"
      ]
     },
     "execution_count": 78,
     "metadata": {},
     "output_type": "execute_result"
    }
   ],
   "source": [
    "translation_category1(mutation_type1_list)"
   ]
  },
  {
   "cell_type": "markdown",
   "metadata": {},
   "source": [
    "## Translation of Category 3 (i.e. A47T) to Category 2 (i.e. c.314C>T)"
   ]
  },
  {
   "cell_type": "code",
   "execution_count": 79,
   "metadata": {},
   "outputs": [],
   "source": [
    "#Script used to convert mutation type 3 to 6\n",
    "#First, remove the first character from string, then add the letter that matched with the dictionary and \">\" \n",
    "#Then convert the remaining single letter nucleotide (NT) to single letter NT \n",
    "#Convert lower case mutations to upper case \n",
    "#Then add \"c.\" \n",
    "\n",
    "def translation_category3(list_of_mutation_type3_from_cooccurrence_of_mutation_and_drug_from_literature):\n",
    "    list_of_mutation_type3_from_cooccurrence_of_mutation_and_drug_from_literature = [e[1:] for e in list_of_mutation_type3_from_cooccurrence_of_mutation_and_drug_from_literature]\n",
    "\n",
    "    cooccurrence_translation_mutation_expression_type3 = set()\n",
    "    mutation_translation = str()\n",
    "\n",
    "    for mutation in str(list_of_mutation_type3_from_cooccurrence_of_mutation_and_drug_from_literature):\n",
    "        if mutation in base_pair_mapping1:\n",
    "            mutation_translation += base_pair_mapping1[mutation] + \">\" + mutation  \n",
    "        else:\n",
    "            mutation_translation += mutation  \n",
    "    split_mutations_list = mutation_translation.split()\n",
    "\n",
    "    string_translation = str()\n",
    "\n",
    "    for string in str(split_mutations_list):\n",
    "        if string in upper_to_lower_case:\n",
    "            string_translation += upper_to_lower_case[string]\n",
    "        else:\n",
    "            string_translation += string\n",
    "    translation_mutations_list = string_translation.split()\n",
    "\n",
    "    cooccurrence_translation_expression_type3_base_Pos_base = [re.sub('[^a-zA-Z0-9>]+', '', _) for _ in translation_mutations_list]\n",
    "    cooccurrence_translation_mutation_expression_type3 = [\"c.\" + mutation for mutation in cooccurrence_translation_expression_type3_base_Pos_base]\n",
    "    cooccurrence_translation_mutation_expression_type3 = set(cooccurrence_translation_mutation_expression_type3) \n",
    "    return(cooccurrence_translation_mutation_expression_type3)"
   ]
  },
  {
   "cell_type": "markdown",
   "metadata": {},
   "source": [
    "Example use of translation_category3"
   ]
  },
  {
   "cell_type": "code",
   "execution_count": 80,
   "metadata": {},
   "outputs": [],
   "source": [
    "mutation_type3_list = ['A100T', \"G20C\", \"g105c\"]"
   ]
  },
  {
   "cell_type": "code",
   "execution_count": 81,
   "metadata": {},
   "outputs": [
    {
     "data": {
      "text/plain": [
       "{'c.100A>T', 'c.105G>C', 'c.20G>C'}"
      ]
     },
     "execution_count": 81,
     "metadata": {},
     "output_type": "execute_result"
    }
   ],
   "source": [
    "translation_category3(mutation_type3_list)"
   ]
  },
  {
   "cell_type": "markdown",
   "metadata": {},
   "source": [
    "## Translation of Category 4 (i.e. rtD16V) to Category 6 (i.e. p.Asp16Val)"
   ]
  },
  {
   "cell_type": "code",
   "execution_count": 82,
   "metadata": {},
   "outputs": [],
   "source": [
    "#Script used to convert mutation type 4 to 6\n",
    "#First, remove first two characters of each mutation (i.e. rt)\n",
    "#Then, conversion from Single Letter AA to 3 Letter AA (without changing position #)\n",
    "#Lastly, add \"p.\"\n",
    "#Then filter conversions that do not satify p_AA3wt_Pos_AA3mut \n",
    "\n",
    "def translation_category4(list_of_mutation_type4_from_cooccurrence_of_mutation_and_drug_from_literature):\n",
    "    list_of_mutation_type4_from_cooccurrence_of_mutation_and_drug_from_literature = [e[2:] for e in list_of_mutation_type4_from_cooccurrence_of_mutation_and_drug_from_literature]\n",
    "\n",
    "    cooccurrence_translation_mutation_expression_type4 = set()\n",
    "    mutation_translation = str()\n",
    "\n",
    "    for mutation in str(list_of_mutation_type4_from_cooccurrence_of_mutation_and_drug_from_literature):\n",
    "        if mutation in master_dictionary_mutations:\n",
    "            mutation_translation += master_dictionary_mutations[mutation]     \n",
    "        else:\n",
    "            mutation_translation += mutation  \n",
    "\n",
    "    split_mutations_list = mutation_translation.split()   \n",
    "    cooccurrence_translation_expression_type4_rt_AA1wt_Pos_AA1mut = [re.sub('[^a-zA-Z0-9]+', '', _) for _ in split_mutations_list]\n",
    "    cooccurrence_translation_mutation_expression_type4 = [\"p.\" + mutation for mutation in cooccurrence_translation_expression_type4_rt_AA1wt_Pos_AA1mut]\n",
    "    cooccurrence_translation_mutation_expression_type4 = set(cooccurrence_translation_mutation_expression_type4)\n",
    "    return(cooccurrence_translation_mutation_expression_type4)"
   ]
  },
  {
   "cell_type": "markdown",
   "metadata": {},
   "source": [
    "Example use of translation_category4"
   ]
  },
  {
   "cell_type": "code",
   "execution_count": 83,
   "metadata": {},
   "outputs": [],
   "source": [
    "mutation_type4_list = ['rtF90M', \"rtP11W\"]"
   ]
  },
  {
   "cell_type": "code",
   "execution_count": 84,
   "metadata": {},
   "outputs": [
    {
     "data": {
      "text/plain": [
       "{'p.Phe90Met', 'p.Pro11Trp'}"
      ]
     },
     "execution_count": 84,
     "metadata": {},
     "output_type": "execute_result"
    }
   ],
   "source": [
    "translation_category4(mutation_type4_list)"
   ]
  },
  {
   "cell_type": "markdown",
   "metadata": {},
   "source": [
    "## Translation of Category 5 (i.e. Asp16Val) to Category 6 (i.e. p.Asp16Val)"
   ]
  },
  {
   "cell_type": "code",
   "execution_count": 85,
   "metadata": {},
   "outputs": [],
   "source": [
    "#Script used to convert mutation type 5 to 6\n",
    "#First, conversion from lower case 3 letter AA to standard notation (without changing position #)\n",
    "#Then adding \"p.\"\n",
    "\n",
    "def translation_category5(list_of_mutation_type5_from_cooccurrence_of_mutation_and_drug_from_literature):\n",
    "    cooccurrence_translation_mutation_expression_type5 = set()\n",
    "    mutation_translation = str()\n",
    "\n",
    "    for mutation in str(list_of_mutation_type5_from_cooccurrence_of_mutation_and_drug_from_literature):\n",
    "        if mutation in dictionary_3let_mutations:\n",
    "            mutation_translation += dictionary_3let_mutations[mutation]     \n",
    "        else:\n",
    "            mutation_translation += mutation\n",
    "\n",
    "    split_mutations_list = mutation_translation.split()   \n",
    "    cooccurrence_translation_expression_type5_AA3wt_AA3mut = [re.sub('[^a-zA-Z0-9]+', '', _) for _ in split_mutations_list]\n",
    "    cooccurrence_translation_mutation_expression_type5 = [\"p.\" + mutation for mutation in cooccurrence_translation_expression_type5_AA3wt_AA3mut]\n",
    "    cooccurrence_translation_mutation_expression_type5 = set(cooccurrence_translation_mutation_expression_type5)\n",
    "    return(cooccurrence_translation_mutation_expression_type5)"
   ]
  },
  {
   "cell_type": "markdown",
   "metadata": {},
   "source": [
    "Example use of translation_category5"
   ]
  },
  {
   "cell_type": "code",
   "execution_count": 86,
   "metadata": {},
   "outputs": [],
   "source": [
    "mutation_type5_list = ['His27Phe', \"Tyr62Glx\"]"
   ]
  },
  {
   "cell_type": "code",
   "execution_count": 87,
   "metadata": {},
   "outputs": [
    {
     "data": {
      "text/plain": [
       "{'p.His27Phe', 'p.Tyr62Glx'}"
      ]
     },
     "execution_count": 87,
     "metadata": {},
     "output_type": "execute_result"
    }
   ],
   "source": [
    "translation_category5(mutation_type5_list)"
   ]
  }
 ],
 "metadata": {
  "kernelspec": {
   "display_name": "Python 3",
   "language": "python",
   "name": "python3"
  },
  "language_info": {
   "codemirror_mode": {
    "name": "ipython",
    "version": 3
   },
   "file_extension": ".py",
   "mimetype": "text/x-python",
   "name": "python",
   "nbconvert_exporter": "python",
   "pygments_lexer": "ipython3",
   "version": "3.7.3"
  }
 },
 "nbformat": 4,
 "nbformat_minor": 2
}
