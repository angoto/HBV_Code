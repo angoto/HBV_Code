{
 "cells": [
  {
   "cell_type": "markdown",
   "metadata": {},
   "source": [
    "# XML Parsing for PubMed Central"
   ]
  },
  {
   "cell_type": "markdown",
   "metadata": {},
   "source": [
    "The representative code used to conduct XML parsing for articles in PubMed Central to obtain title, abstract, and full body content in order to search for cooccurrence of drug and mutation related to HBV. Figures mentioned in sub-heading are making reference to the figure numbers in the report. "
   ]
  },
  {
   "cell_type": "code",
   "execution_count": null,
   "metadata": {},
   "outputs": [],
   "source": [
    "from os import listdir\n",
    "import os\n",
    "import re\n",
    "import glob\n",
    "import xml.etree.ElementTree as ET\n",
    "from PIL import Image"
   ]
  },
  {
   "cell_type": "markdown",
   "metadata": {},
   "source": [
    "Figure 5 referred to in this Jupyter Notebook refers to the workflow below:"
   ]
  },
  {
   "cell_type": "code",
   "execution_count": null,
   "metadata": {},
   "outputs": [],
   "source": [
    "Image.open(\"./Figure5.png\")"
   ]
  },
  {
   "cell_type": "markdown",
   "metadata": {},
   "source": [
    "## Step 1 in Figure 5 (i.e. Download scientific literature as XML files from the scientific literature)"
   ]
  },
  {
   "cell_type": "markdown",
   "metadata": {},
   "source": [
    "1. Download all files from ftp://ftp.ncbi.nlm.nih.gov/pub/pmc/oa_bulk/ and deposit inside your working directory. \n",
    "2. Unzip all tar.gz inside your working directory. "
   ]
  },
  {
   "cell_type": "markdown",
   "metadata": {},
   "source": [
    "## Step 2 in Figure 5 (i.e. Select articles that refer to HBV and/or Hepatitis B)"
   ]
  },
  {
   "cell_type": "markdown",
   "metadata": {},
   "source": [
    "By using the command line arguments in Linux: \n",
    "1. Select articles that refer to Hepatitis B by typing \"find . -name '*.nxml' -exec fgrep -i -l 'hepatitis b' { }\\; | wc -l | parallel echo { } > match_hepatitisB.txt\" in the command line. This would place all the paths to the XML files that consisted of 'hepatitis b' (case insensitive) in the file content inside a text file called 'match_hepatitisB.txt' in the working directory.\n",
    "2. Select articles that refer to HBV by typing \"find . -name '*.nxml' -exec fgrep -i -l 'hbv' { }\\; | wc -l | parallel echo { } > match_hbv.txt\" in the command line. This would place all the paths to the XML files that consisted of 'hbv'  (case insensitive) in the file content inside a text file called 'match_hbv.txt' in the working directory.\n",
    "3. Merge two text files from Steps 1 and 2 by typing \"copy match*.txt match_hbv_hepatitisB.txt\" in the command line of the working directory."
   ]
  },
  {
   "cell_type": "markdown",
   "metadata": {},
   "source": [
    "Alternatively, you are able to conduct the same process by using the code shown below. "
   ]
  },
  {
   "cell_type": "code",
   "execution_count": 135,
   "metadata": {},
   "outputs": [],
   "source": [
    "# Path to unzip directory for PubMed Central  (modify to your own path)\n",
    "path_to_PMC = glob.glob(\n",
    "    \"/pstore/data/i2e/i2e_sources/Source_Data/PMC/unzip/*/\")"
   ]
  },
  {
   "cell_type": "code",
   "execution_count": null,
   "metadata": {},
   "outputs": [],
   "source": [
    "# Regular expression for HBV\n",
    "search_hbv_regex = r\"(?i)hbv\"\n",
    "# Regular expression for Hepatitis B\n",
    "search_hepatitis_regex = r\"(?i)hepatitis[ -]b\""
   ]
  },
  {
   "cell_type": "code",
   "execution_count": null,
   "metadata": {},
   "outputs": [],
   "source": [
    "def files_match_search_hbv(path_to_PMC_directory, regex):\n",
    "    files_match_search = set()\n",
    "    for journal_name in path_to_PMC_directory:\n",
    "        for filename in os.listdir(journal_name):\n",
    "            if not filename.endswith('.nxml'):\n",
    "                continue\n",
    "            fullname = os.path.join(journal_name, filename)\n",
    "            contents = open(fullname).read()\n",
    "            matches = re.search(regex, contents)\n",
    "            if matches:\n",
    "                files_match_search.add(fullname)\n",
    "    return(files_match_search)\n",
    "\n",
    "\n",
    "def write_text_file(file_to_open, set_to_open):\n",
    "    with open(file_to_open, 'w') as f:\n",
    "        for item in set_to_open:\n",
    "            f.write(\"%s\\n\" % item)"
   ]
  },
  {
   "cell_type": "code",
   "execution_count": null,
   "metadata": {},
   "outputs": [],
   "source": [
    "# Find files that have the keyword 'hbv' in unzip directory for PubMed Central\n",
    "file_match_search_hbv_path = files_match_search_hbv(path_to_PMC,\n",
    "                                                    search_hbv_regex)"
   ]
  },
  {
   "cell_type": "code",
   "execution_count": null,
   "metadata": {},
   "outputs": [],
   "source": [
    "# Write text file for files_match_search_hbv_path\n",
    "write_text_file('./files_match_hbv_search.txt', file_match_search_hbv_path)"
   ]
  },
  {
   "cell_type": "code",
   "execution_count": null,
   "metadata": {},
   "outputs": [],
   "source": [
    "# Find files that have the keyword 'hbv' in unzip directory for PubMed Central\n",
    "\n",
    "file_match_search_hepatitis_path = files_match_search_hbv(\n",
    "    path_to_PMC, search_hepatitis_regex)"
   ]
  },
  {
   "cell_type": "code",
   "execution_count": null,
   "metadata": {},
   "outputs": [],
   "source": [
    "# Write text file for files_match_search_hepatitisb_path\n",
    "write_text_file('./files_match_hepatitisb_search.txt',\n",
    "                file_match_search_hepatitis_path)"
   ]
  },
  {
   "cell_type": "markdown",
   "metadata": {},
   "source": [
    "After successfully generating files_match_hbv_search.txt and files_match_hepatitisb_search.txt inside your working directory, you are able to follow Step 3 described earlier using the Linux command line argument to merge two text files. "
   ]
  },
  {
   "cell_type": "markdown",
   "metadata": {},
   "source": [
    "## Steps 3-5 in Figure 5 (i.e. Extract title, abstract, and full body content; Search for co-occurrence of drug and mutation; Output Data (hit DOIs, mutations, sentences))"
   ]
  },
  {
   "cell_type": "markdown",
   "metadata": {},
   "source": [
    "1. Create set of paths to access articles relevant to HBV and/or Hepatitis B from Step 2 in Figure 5"
   ]
  },
  {
   "cell_type": "code",
   "execution_count": null,
   "metadata": {},
   "outputs": [],
   "source": [
    "# Create new set for further data processing\n",
    "\n",
    "\n",
    "def ceate_new_set(name_new_set, file_to_open):\n",
    "    name_new_set = set()\n",
    "    XML_file = open(file_to_open, \"r\")\n",
    "    for file in XML_file:\n",
    "        name_new_set.add(file)\n",
    "    name_new_set = map(lambda s: s.strip(), name_new_set)\n",
    "    name_new_set = set(name_new_set)\n",
    "    return(name_new_set)"
   ]
  },
  {
   "cell_type": "code",
   "execution_count": null,
   "metadata": {},
   "outputs": [],
   "source": [
    "# Create a new set called \"match_hbv_hepatitisB_location\"\n",
    "ceate_new_set(match_hbv_hepatitisB_location,\n",
    "              \"./match_hbv_hepatitisB.txt\")"
   ]
  },
  {
   "cell_type": "markdown",
   "metadata": {},
   "source": [
    "2. Load the HBV drug vocabulary from DrugBank.ca (could be applied to any vocabulary that you wish to conduct XML parsing for)"
   ]
  },
  {
   "cell_type": "code",
   "execution_count": null,
   "metadata": {},
   "outputs": [],
   "source": [
    "# Create a new set called \"drugbank_regex\"\n",
    "ceate_new_set(drugbank_regex,\n",
    "              \"./HBV_clinically_approved_DrugBank.txt\")"
   ]
  },
  {
   "cell_type": "markdown",
   "metadata": {},
   "source": [
    "3. Regular expressions for HBV (combined version of category 1-7) and splitting sentences. "
   ]
  },
  {
   "cell_type": "code",
   "execution_count": null,
   "metadata": {},
   "outputs": [],
   "source": [
    "mutation_patterns = r\"(?i)(p\\.|rt)?(?P<AA3wt>Ala|Arg|Asn|Asp|Asx|Cys|Glu|Gln|Glx|Gly|His|Ile|Leu|Lys|Met|Phe|Pro|Ser|Thr|Trp|Tyr|Val)(?P<POS>\\d+)(?P<AA3mut>Ala|Arg|Asn|Asp|Asx|Cys|Glu|Gln|Glx|Gly|His|Ile|Leu|Lys|Met|Phe|Pro|Ser|Thr|Trp|Tyr|Val)|(c\\.)?(?P<POS_C>\\d+)(?P<AA1wt_C>[ARNDBCEQZGHILKMFPSTWYVO])>(?P<AA1mut_C>[ARNDBCEQZGHILKMFPSTWYVO])|(rt)?(?P<AA1wt>[ARNDBCEQZGHILKMFPSTWYVO])(?P<POS_1>\\d+)(?P<AA1mut>[ARNDBCEQZGHILKMFPSTWYVO])\"\n",
    "regex_split = r\"(?<!\\w\\.\\w.)(?<![A-Z][a-z]\\.)(?<=\\.|\\?)\\s\""
   ]
  },
  {
   "cell_type": "markdown",
   "metadata": {},
   "source": [
    "In 4)-6), for ease of data processing, I have used the regular expression for each categories instead of the combination of all seven categories into one. Hence, mutation_patterns mentioned in 4)-6) above were replaced with regular expressions noted in Table 1 shown below (e.g. regex_base_Pos_base = r\"(?i)(?P<base1>[AGTC])(?P<POS_1>\\d+)(?P<base2>[GACT])\" for mutation type 3).  "
   ]
  },
  {
   "cell_type": "code",
   "execution_count": null,
   "metadata": {},
   "outputs": [],
   "source": [
    "Image.open(\"./Table1.png\")"
   ]
  },
  {
   "cell_type": "code",
   "execution_count": null,
   "metadata": {},
   "outputs": [],
   "source": [
    "# Regex to create mutation subsets from PubMed Central\n",
    "regex_AA1wt_Pos_AA1mut = r\"(?i)(?P<AA1wt>[ARNDBCEQZGHILKMFPSTWYVO])(?P<POS_1>\\d+)(?P<AA1mut>[ARNDBCEQZGHILKMFPSTWYVO])\"\n",
    "regex_base_Pos_base = r\"(?i)(?P<base1>[AGTC])(?P<POS_1>\\d+)(?P<base2>[GACT])\"\n",
    "regex_rt_AA1wt_Pos_AA1mut = r\"(?i)(rt)(?P<AA1wt>[ARNDBCEQZGHILKMFPSTWYVO])(?P<POS_1>\\d+)(?P<AA1mut>[ARNDBCEQZGHILKMFPSTWYVO])\"\n",
    "regex_c_Pos_AA1wt_AA1mut = r\"(?i)(c\\.)?(?P<POS_C>\\d+)(?P<AA1wt_C>[ARNDBCEQZGHILKMFPSTWYVO])>(?P<AA1mut_C>[ARNDBCEQZGHILKMFPSTWYVO])\"\n",
    "regex_AA3wt_Pos_AA3mut = r\"(?i)(?P<AA3wt>Ala|Arg|Asn|Asp|Asx|Cys|Glu|Gln|Glx|Gly|His|Ile|Leu|Lys|Met|Phe|Pro|Ser|Thr|Trp|Tyr|Val)(?P<POS>\\d+)(?P<AA3mut>Ala|Arg|Asn|Asp|Asx|Cys|Glu|Gln|Glx|Gly|His|Ile|Leu|Lys|Met|Phe|Pro|Ser|Thr|Trp|Tyr|Val)\"\n",
    "regex_p_AA3wt_Pos_AA3mut = r\"(?i)(p\\.)(?P<AA3wt>Ala|Arg|Asn|Asp|Asx|Cys|Glu|Gln|Glx|Gly|His|Ile|Leu|Lys|Met|Phe|Pro|Ser|Thr|Trp|Tyr|Val)(?P<POS>\\d+)(?P<AA3mut>Ala|Arg|Asn|Asp|Asx|Cys|Glu|Gln|Glx|Gly|His|Ile|Leu|Lys|Met|Phe|Pro|Ser|Thr|Trp|Tyr|Val)\"\n",
    "regex_rt_AA3wt_Pos_AA3mut = r\"(?i)(rt)(?P<AA3wt>Ala|Arg|Asn|Asp|Asx|Cys|Glu|Gln|Glx|Gly|His|Ile|Leu|Lys|Met|Phe|Pro|Ser|Thr|Trp|Tyr|Val)(?P<POS>\\d+)(?P<AA3mut>Ala|Arg|Asn|Asp|Asx|Cys|Glu|Gln|Glx|Gly|His|Ile|Leu|Lys|Met|Phe|Pro|Ser|Thr|Trp|Tyr|Val)\""
   ]
  },
  {
   "cell_type": "markdown",
   "metadata": {},
   "source": [
    "4. Search for co-occurrence of drug and mutation whilst extracting for title from articles in 1)"
   ]
  },
  {
   "cell_type": "code",
   "execution_count": null,
   "metadata": {},
   "outputs": [],
   "source": [
    "# Find content that matches the title\n",
    "# then find HBV mutation patterns for files that satisfied drug filter\n",
    "\n",
    "# set for title with cooccurrence of mutation and drug\n",
    "cooccurrence_title_mutation = set()\n",
    "# set for lines in title with cooccurrence of mutation and drug\n",
    "cooccurrence_title_mutation_drug_line = set()\n",
    "# set for DOI in title with cooccurrence of mutation and drug\n",
    "cooccurrence_title_mutation_drug_location = set()\n",
    "# set for drug in title with cooccurrence of mutation and drug\n",
    "cooccurrence_title_mutation_drug = set()\n",
    "# set of titles that match HBV drug vocabulary\n",
    "title_match_drug = set()\n",
    "\n",
    "for path_name in match_hbv_hepatitisB_location:\n",
    "    # iterates over all articles related to HBV\n",
    "    tree = ET.parse(path_name)\n",
    "    root = tree.getroot()\n",
    "    # keyword to search for title content in PubMed Central\n",
    "    title = root.find('.//title-group/article-title')\n",
    "    if title != None:\n",
    "        title_match_bytes = ET.tostring(title)\n",
    "        title_match_drug_string = title_match_bytes.decode()\n",
    "        article_meta = root.find('.//article-meta')\n",
    "        # keyword to search for DOIs\n",
    "        doi = article_meta.find('article-id[@pub-id-type=\"doi\"]')\n",
    "        if doi != None:\n",
    "            doi_match_bytes = ET.tostring(doi)\n",
    "            path_name_doi = doi_match_bytes.decode()\n",
    "            for drug in drugbank_regex:\n",
    "                # searches whether a sentence mentions drug from drugbank_regex\n",
    "                find_drug_patterns = re.search(drug, title_match_drug_string)\n",
    "                if find_drug_patterns != None:\n",
    "                    title_match_drug.add(title_match_drug_string)\n",
    "                    for title_match_string in title_match_drug:\n",
    "                        # searches whether a sentence that mentioned drug from drugbank_regex also mentions HBV-related mutation\n",
    "                        find_mutation_patterns = re.search(mutation_patterns, title_match_string)\n",
    "                        if find_mutation_patterns != None:\n",
    "                            cooccurrence_title_mutation_drug_line.add(find_drug_patterns.group(0))\n",
    "                            cooccurrence_title_mutation_drug.add(title_match_string)\n",
    "                            cooccurrence_title_mutation.add(find_mutation_patterns.group(0))\n",
    "                            cooccurrence_title_mutation_drug_location.add(path_name_doi)\n",
    "                        else:\n",
    "                            continue"
   ]
  },
  {
   "cell_type": "markdown",
   "metadata": {},
   "source": [
    "5. Search for co-occurrence of drug and mutation whilst extracting for abstract from articles in 1)"
   ]
  },
  {
   "cell_type": "code",
   "execution_count": null,
   "metadata": {},
   "outputs": [],
   "source": [
    "# set for abstract with cooccurrence of mutation and drug\n",
    "cooccurrence_abstract_mutation = set()\n",
    "# set for lines in abstract with cooccurrence of mutation and drug\n",
    "cooccurrence_abstract_mutation_drug_line = set()\n",
    "# set for DOI in abstract with cooccurrence of mutation and drug\n",
    "cooccurrence_abstract_mutation_drug_location = set()\n",
    "# set for drug in abstract with cooccurrence of mutation and drug\n",
    "cooccurrence_abstract_mutation_drug = set()\n",
    "# set of abstracts that match HBV drug vocabulary\n",
    "abstract_match_drug = set()\n",
    "\n",
    "for path_name in match_hbv_hepatitisB_location:\n",
    "    # iterates over all articles related to HBV\n",
    "    tree = ET.parse(path_name)\n",
    "    root = tree.getroot()\n",
    "    # keyword to search for abstract content in PubMed Central\n",
    "    abstract = root.find('.//abstract')\n",
    "    if abstract != None:\n",
    "        abstract_match_bytes = ET.tostring(abstract)\n",
    "        abstract_match_string = abstract_match_bytes.decode()\n",
    "        article_meta = root.find('.//article-meta')\n",
    "        # keyword to search for DOIs\n",
    "        doi = article_meta.find('article-id[@pub-id-type=\"doi\"]')\n",
    "        if doi != None:\n",
    "            doi_match_bytes = ET.tostring(doi)\n",
    "            path_name_doi = doi_match_bytes.decode()\n",
    "            # split texts into a sentence\n",
    "            lines = re.split(regex_split, abstract_match_string)\n",
    "            for line1 in lines:\n",
    "                for drug in drugbank_regex:\n",
    "                    #searches whether a sentence mentions drug from drugbank_regex\n",
    "                    find_drug_patterns = re.search(drug, line1)\n",
    "                    if find_drug_patterns != None:\n",
    "                        abstract_match_drug.add(line1)\n",
    "                        for line in abstract_match_drug:\n",
    "                            #searches whether a sentence that mentioned drug from drugbank_regex also mentions HBV-related mutation\n",
    "                            find_mutation_patterns = re.search(mutation_patterns, line)\n",
    "                            if find_mutation_patterns != None:\n",
    "                                cooccurrence_abstract_mutation.add(find_mutation_patterns.group(0))\n",
    "                                cooccurrence_abstract_mutation_drug.add(find_drug_patterns.group(0))\n",
    "                                cooccurrence_abstract_mutation_drug_location.add(path_name_doi)\n",
    "                                cooccurrence_abstract_mutation_drug_line.add(line)\n",
    "                            else:\n",
    "                                continue"
   ]
  },
  {
   "cell_type": "markdown",
   "metadata": {},
   "source": [
    "6. Search for co-occurrence of drug and mutation whilst extracting for full body content from articles in 1)"
   ]
  },
  {
   "cell_type": "code",
   "execution_count": null,
   "metadata": {},
   "outputs": [],
   "source": [
    "# set for body content with cooccurrence of mutation and drug\n",
    "cooccurrence_body_content_mutation = set()\n",
    "# set for lines in body content with cooccurrence of mutation and drug\n",
    "cooccurrence_body_content_mutation_drug_line = set()\n",
    "# set for DOI in body content with cooccurrence of mutation and drug\n",
    "cooccurrence_body_content_mutation_drug_location = set()\n",
    "# set for drug in body content  with cooccurrence of mutation and drug\n",
    "cooccurrence_body_content_mutation_drug = set()\n",
    "# set of body contents that match HBV drug vocabulary\n",
    "body_content_match_drug = set()\n",
    "\n",
    "for path_name in match_hbv_hepatitisB_location:\n",
    "    # iterates over all articles related to HBV\n",
    "    tree = ET.parse(path_name)\n",
    "    root = tree.getroot()\n",
    "    # keyword to search for full body content in PubMed Central \n",
    "    body_content = root.find('.//body')\n",
    "    if body_content != None:\n",
    "        body_content_match_bytes = ET.tostring(body_content)\n",
    "        body_content_match_string = body_content_match_bytes.decode()\n",
    "        article_meta = root.find('.//article-meta')\n",
    "        # keyword to search for DOIs\n",
    "        doi = article_meta.find('article-id[@pub-id-type=\"doi\"]')\n",
    "        if doi != None:\n",
    "            doi_match_bytes = ET.tostring(doi)\n",
    "            path_name_doi = doi_match_bytes.decode()\n",
    "            # split texts into a sentence\n",
    "            lines = re.split(regex_split, body_content_match_string)\n",
    "            for line1 in lines:\n",
    "                for drug in drugbank_regex:\n",
    "                    # searches whether a sentence mentions drug from drugbank_regex\n",
    "                    find_drug_patterns = re.search(drug, line1)\n",
    "                    if find_drug_patterns != None:\n",
    "                        body_content_match_drug.add(line1)\n",
    "                        for line in body_content_match_drug:\n",
    "                            # searches whether a sentence that mentioned drug from drugbank_regex also mentions HBV-related mutation\n",
    "                            find_mutation_patterns = re.search(mutation_patterns, line) \n",
    "                            if find_mutation_patterns != None:\n",
    "                                cooccurrence_body_content_mutation.add(find_mutation_patterns.group(0))\n",
    "                                cooccurrence_body_content_mutation_drug.add(find_drug_patterns.group(0))\n",
    "                                cooccurrence_body_content_mutation_drug_location.add(path_name_doi)\n",
    "                                cooccurrence_body_content_mutation_drug_line.add(line)\n",
    "                            else:\n",
    "                                continue"
   ]
  }
 ],
 "metadata": {
  "kernelspec": {
   "display_name": "Python 3",
   "language": "python",
   "name": "python3"
  },
  "language_info": {
   "codemirror_mode": {
    "name": "ipython",
    "version": 3
   },
   "file_extension": ".py",
   "mimetype": "text/x-python",
   "name": "python",
   "nbconvert_exporter": "python",
   "pygments_lexer": "ipython3",
   "version": "3.7.3"
  }
 },
 "nbformat": 4,
 "nbformat_minor": 2
}
